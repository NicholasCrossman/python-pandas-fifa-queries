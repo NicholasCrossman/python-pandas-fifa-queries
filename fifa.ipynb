{
 "cells": [
  {
   "cell_type": "markdown",
   "metadata": {},
   "source": [
    "# JUMPlus Python Project 1\n",
    "## FIFA Dataset Basic Operations\n",
    "### by Nicholas Crossman\n",
    "First, we import pandas and load data from the `.csv` file.\n",
    "\n",
    "We'll print out the first 5 players, to see what kind of data we're dealing with."
   ]
  },
  {
   "cell_type": "code",
   "execution_count": 3,
   "metadata": {},
   "outputs": [
    {
     "name": "stdout",
     "output_type": "stream",
     "text": [
      "   sofifa_id                                         player_url  \\\n",
      "0     158023  https://sofifa.com/player/158023/lionel-messi/...   \n",
      "1      20801  https://sofifa.com/player/20801/c-ronaldo-dos-...   \n",
      "2     190871  https://sofifa.com/player/190871/neymar-da-sil...   \n",
      "3     200389  https://sofifa.com/player/200389/jan-oblak/20/...   \n",
      "4     183277  https://sofifa.com/player/183277/eden-hazard/2...   \n",
      "\n",
      "          short_name                            long_name  age         dob  \\\n",
      "0           L. Messi       Lionel Andrés Messi Cuccittini   32  1987-06-24   \n",
      "1  Cristiano Ronaldo  Cristiano Ronaldo dos Santos Aveiro   34  1985-02-05   \n",
      "2          Neymar Jr        Neymar da Silva Santos Junior   27  1992-02-05   \n",
      "3           J. Oblak                            Jan Oblak   26  1993-01-07   \n",
      "4          E. Hazard                          Eden Hazard   28  1991-01-07   \n",
      "\n",
      "   height_cm  weight_kg nationality                 club  ...    lwb   ldm  \\\n",
      "0        170         72   Argentina         FC Barcelona  ...   68+2  66+2   \n",
      "1        187         83    Portugal             Juventus  ...   65+3  61+3   \n",
      "2        175         68      Brazil  Paris Saint-Germain  ...   66+3  61+3   \n",
      "3        188         87    Slovenia      Atlético Madrid  ...    NaN   NaN   \n",
      "4        175         74     Belgium          Real Madrid  ...   66+3  63+3   \n",
      "\n",
      "    cdm   rdm   rwb    lb   lcb    cb   rcb    rb  \n",
      "0  66+2  66+2  68+2  63+2  52+2  52+2  52+2  63+2  \n",
      "1  61+3  61+3  65+3  61+3  53+3  53+3  53+3  61+3  \n",
      "2  61+3  61+3  66+3  61+3  46+3  46+3  46+3  61+3  \n",
      "3   NaN   NaN   NaN   NaN   NaN   NaN   NaN   NaN  \n",
      "4  63+3  63+3  66+3  61+3  49+3  49+3  49+3  61+3  \n",
      "\n",
      "[5 rows x 104 columns]\n"
     ]
    }
   ],
   "source": [
    "import pandas as pd\n",
    "\n",
    "data = pd.read_csv(\"players_20.csv\")\n",
    "print(data.head())"
   ]
  },
  {
   "cell_type": "markdown",
   "metadata": {},
   "source": [
    "## Getting Column Information\n",
    "\n",
    "As we can see, there are a lot of columns. Let's get a list of the column names."
   ]
  },
  {
   "cell_type": "code",
   "execution_count": 4,
   "metadata": {},
   "outputs": [
    {
     "name": "stdout",
     "output_type": "stream",
     "text": [
      "['sofifa_id', 'player_url', 'short_name', 'long_name', 'age', 'dob', 'height_cm', 'weight_kg', 'nationality', 'club', 'overall', 'potential', 'value_eur', 'wage_eur', 'player_positions', 'preferred_foot', 'international_reputation', 'weak_foot', 'skill_moves', 'work_rate', 'body_type', 'real_face', 'release_clause_eur', 'player_tags', 'team_position', 'team_jersey_number', 'loaned_from', 'joined', 'contract_valid_until', 'nation_position', 'nation_jersey_number', 'pace', 'shooting', 'passing', 'dribbling', 'defending', 'physic', 'gk_diving', 'gk_handling', 'gk_kicking', 'gk_reflexes', 'gk_speed', 'gk_positioning', 'player_traits', 'attacking_crossing', 'attacking_finishing', 'attacking_heading_accuracy', 'attacking_short_passing', 'attacking_volleys', 'skill_dribbling', 'skill_curve', 'skill_fk_accuracy', 'skill_long_passing', 'skill_ball_control', 'movement_acceleration', 'movement_sprint_speed', 'movement_agility', 'movement_reactions', 'movement_balance', 'power_shot_power', 'power_jumping', 'power_stamina', 'power_strength', 'power_long_shots', 'mentality_aggression', 'mentality_interceptions', 'mentality_positioning', 'mentality_vision', 'mentality_penalties', 'mentality_composure', 'defending_marking', 'defending_standing_tackle', 'defending_sliding_tackle', 'goalkeeping_diving', 'goalkeeping_handling', 'goalkeeping_kicking', 'goalkeeping_positioning', 'goalkeeping_reflexes', 'ls', 'st', 'rs', 'lw', 'lf', 'cf', 'rf', 'rw', 'lam', 'cam', 'ram', 'lm', 'lcm', 'cm', 'rcm', 'rm', 'lwb', 'ldm', 'cdm', 'rdm', 'rwb', 'lb', 'lcb', 'cb', 'rcb', 'rb']\n"
     ]
    }
   ],
   "source": [
    "col_names = list(data)\n",
    "print(col_names)"
   ]
  },
  {
   "cell_type": "markdown",
   "metadata": {},
   "source": [
    "Let's check how many rows and columns the data set has in total."
   ]
  },
  {
   "cell_type": "code",
   "execution_count": 5,
   "metadata": {},
   "outputs": [
    {
     "name": "stdout",
     "output_type": "stream",
     "text": [
      "Rows: 18278\n",
      "Columns: 104\n"
     ]
    }
   ],
   "source": [
    "info = data.shape\n",
    "rows = str(info[0])\n",
    "cols = str(info[1])\n",
    "print(\"Rows: \" + rows)\n",
    "print(\"Columns: \" + cols)"
   ]
  },
  {
   "cell_type": "markdown",
   "metadata": {},
   "source": [
    "We'll start with a basic query to see how Pandas DataFrames can be manipulated.\n",
    "Let's show the number of players from each country, sorted in descending order by player count."
   ]
  },
  {
   "cell_type": "code",
   "execution_count": 6,
   "metadata": {},
   "outputs": [
    {
     "name": "stdout",
     "output_type": "stream",
     "text": [
      "nationality\n",
      "England        1667\n",
      "Germany        1216\n",
      "Spain          1035\n",
      "France          984\n",
      "Argentina       886\n",
      "Brazil          824\n",
      "Italy           732\n",
      "Colombia        591\n",
      "Japan           453\n",
      "Netherlands     416\n",
      "dtype: int64\n"
     ]
    }
   ],
   "source": [
    "players_by_country = data.groupby(\"nationality\").size().sort_values(ascending=False).head(10)\n",
    "print(players_by_country)"
   ]
  },
  {
   "cell_type": "markdown",
   "metadata": {},
   "source": [
    "The `.size()` call counts the number of players in each country group, and the `sort_values()` call orders \n",
    "the list by this count, with the `ascending` flag set to `False`.\n",
    "\n",
    "We use `head(10)` to select the first 10 players from this resulting DataFrame.\n",
    "\n",
    "## Visualization\n",
    "\n",
    "Let's try making some visual aids to better convey this information. \n",
    "The `data_frame.plot.bar()` function will produce a bar graph from an existing DataFrame. \n",
    "\n",
    "We need to import `matplotlib.pyplot` to make the visualizations of our Pandas data. \n",
    "\n",
    "By default, the bar plot will give each bar a different color, but we will set them all to green."
   ]
  },
  {
   "cell_type": "code",
   "execution_count": 6,
   "metadata": {},
   "outputs": [
    {
     "data": {
      "text/plain": [
       "<matplotlib.axes._subplots.AxesSubplot at 0x1d83c58f320>"
      ]
     },
     "execution_count": 6,
     "metadata": {},
     "output_type": "execute_result"
    },
    {
     "data": {
      "image/png": "[encoded data removed]",
      "text/plain": [
       "<Figure size 432x288 with 1 Axes>"
      ]
     },
     "metadata": {
      "needs_background": "light"
     },
     "output_type": "display_data"
    }
   ],
   "source": [
    "import matplotlib.pyplot as plt\n",
    "\n",
    "plt.figure() # sets up the canvas\n",
    "# get the top 5 countries\n",
    "players_by_country_plot = data.groupby(\"nationality\").size().sort_values(ascending=False).head()\n",
    "players_by_country_plot.plot.bar(color='green')"
   ]
  },
  {
   "cell_type": "markdown",
   "metadata": {},
   "source": [
    "Let's make a few more queries to practice.\n",
    "\n",
    "First, we'll find the first 5 players, and display their short name and wages."
   ]
  },
  {
   "cell_type": "code",
   "execution_count": 8,
   "metadata": {},
   "outputs": [
    {
     "name": "stdout",
     "output_type": "stream",
     "text": [
      "          short_name  wage_eur\n",
      "0           L. Messi    565000\n",
      "1  Cristiano Ronaldo    405000\n",
      "2          Neymar Jr    290000\n",
      "3           J. Oblak    125000\n",
      "4          E. Hazard    470000\n"
     ]
    }
   ],
   "source": [
    "name_and_wages = data.head()[['short_name', 'wage_eur']]\n",
    "print(name_and_wages)"
   ]
  },
  {
   "cell_type": "markdown",
   "metadata": {},
   "source": [
    "Let's show the name and wages of the 5 highest paid players."
   ]
  },
  {
   "cell_type": "code",
   "execution_count": 10,
   "metadata": {},
   "outputs": [
    {
     "name": "stdout",
     "output_type": "stream",
     "text": [
      "           short_name  wage_eur\n",
      "0            L. Messi    565000\n",
      "4           E. Hazard    470000\n",
      "1   Cristiano Ronaldo    405000\n",
      "5        K. De Bruyne    370000\n",
      "22       A. Griezmann    370000\n"
     ]
    }
   ],
   "source": [
    "name_and_wages_by_salary = data.sort_values('wage_eur', ascending=False).head()[['short_name', 'wage_eur']]\n",
    "print(name_and_wages_by_salary)"
   ]
  },
  {
   "cell_type": "markdown",
   "metadata": {},
   "source": [
    "Let's show this as another bar plot. We'll specify the `x` and `y` axis so the index isn't shown instead."
   ]
  },
  {
   "cell_type": "code",
   "execution_count": 12,
   "metadata": {},
   "outputs": [
    {
     "data": {
      "text/plain": [
       "<matplotlib.axes._subplots.AxesSubplot at 0x1d83c66ba58>"
      ]
     },
     "execution_count": 12,
     "metadata": {},
     "output_type": "execute_result"
    },
    {
     "data": {
      "image/png": "[encoded data removed]",
      "text/plain": [
       "<Figure size 432x288 with 1 Axes>"
      ]
     },
     "metadata": {
      "needs_background": "light"
     },
     "output_type": "display_data"
    }
   ],
   "source": [
    "name_and_wages_by_salary.plot.bar(x='short_name', y='wage_eur')"
   ]
  },
  {
   "cell_type": "markdown",
   "metadata": {},
   "source": [
    "Let's find the first 10 players from Germany."
   ]
  },
  {
   "cell_type": "code",
   "execution_count": 19,
   "metadata": {},
   "outputs": [
    {
     "name": "stdout",
     "output_type": "stream",
     "text": [
      "     sofifa_id                                         player_url  \\\n",
      "6       192448  https://sofifa.com/player/192448/marc-andre-te...   \n",
      "31      167495  https://sofifa.com/player/167495/manuel-neuer/...   \n",
      "36      182521  https://sofifa.com/player/182521/toni-kroos/20...   \n",
      "37      188350  https://sofifa.com/player/188350/marco-reus/20...   \n",
      "49      178603  https://sofifa.com/player/178603/mats-hummels/...   \n",
      "55      222492  https://sofifa.com/player/222492/leroy-sane/20...   \n",
      "61      212622  https://sofifa.com/player/212622/joshua-kimmic...   \n",
      "70      189596  https://sofifa.com/player/189596/thomas-muller...   \n",
      "77      212190  https://sofifa.com/player/212190/niklas-sule/2...   \n",
      "109     235790  https://sofifa.com/player/235790/kai-havertz/2...   \n",
      "\n",
      "        short_name              long_name  age         dob  height_cm  \\\n",
      "6    M. ter Stegen  Marc-André ter Stegen   27  1992-04-30        187   \n",
      "31        M. Neuer           Manuel Neuer   33  1986-03-27        193   \n",
      "36        T. Kroos             Toni Kroos   29  1990-01-04        183   \n",
      "37         M. Reus             Marco Reus   30  1989-05-31        180   \n",
      "49      M. Hummels          Mats  Hummels   30  1988-12-16        191   \n",
      "55         L. Sané             Leroy Sané   23  1996-01-11        183   \n",
      "61      J. Kimmich         Joshua Kimmich   24  1995-02-08        176   \n",
      "70       T. Müller          Thomas Müller   29  1989-09-13        186   \n",
      "77         N. Süle            Niklas Süle   23  1995-09-03        195   \n",
      "109     K. Havertz            Kai Havertz   20  1999-06-11        188   \n",
      "\n",
      "     weight_kg nationality                 club  ...    lwb   ldm   cdm   rdm  \\\n",
      "6           85     Germany         FC Barcelona  ...    NaN   NaN   NaN   NaN   \n",
      "31          92     Germany    FC Bayern München  ...    NaN   NaN   NaN   NaN   \n",
      "36          76     Germany          Real Madrid  ...   75+3  79+3  79+3  79+3   \n",
      "37          71     Germany    Borussia Dortmund  ...   69+3  65+3  65+3  65+3   \n",
      "49          94     Germany    Borussia Dortmund  ...   77+3  83+3  83+3  83+3   \n",
      "55          75     Germany      Manchester City  ...   65+2  59+2  59+2  59+2   \n",
      "61          73     Germany    FC Bayern München  ...   83+3  82+3  82+3  82+3   \n",
      "70          75     Germany    FC Bayern München  ...   69+3  68+3  68+3  68+3   \n",
      "77          97     Germany    FC Bayern München  ...   71+2  77+2  77+2  77+2   \n",
      "109         83     Germany  Bayer 04 Leverkusen  ...   65+2  63+2  63+2  63+2   \n",
      "\n",
      "      rwb    lb   lcb    cb   rcb    rb  \n",
      "6     NaN   NaN   NaN   NaN   NaN   NaN  \n",
      "31    NaN   NaN   NaN   NaN   NaN   NaN  \n",
      "36   75+3  72+3  69+3  69+3  69+3  72+3  \n",
      "37   69+3  64+3  55+3  55+3  55+3  64+3  \n",
      "49   77+3  78+3  84+3  84+3  84+3  78+3  \n",
      "55   65+2  61+2  52+2  52+2  52+2  61+2  \n",
      "61   83+3  81+3  78+3  78+3  78+3  81+3  \n",
      "70   69+3  67+3  62+3  62+3  62+3  67+3  \n",
      "77   71+2  75+2  83+2  83+2  83+2  75+2  \n",
      "109  65+2  62+2  54+2  54+2  54+2  62+2  \n",
      "\n",
      "[10 rows x 104 columns]\n"
     ]
    }
   ],
   "source": [
    "german_players = data[data['nationality'] == 'Germany'].head(10)\n",
    "print(german_players)"
   ]
  },
  {
   "cell_type": "markdown",
   "metadata": {},
   "source": [
    "Now, let's sort the top 5 German players by height, weight, and wages."
   ]
  },
  {
   "cell_type": "code",
   "execution_count": 20,
   "metadata": {},
   "outputs": [
    {
     "name": "stdout",
     "output_type": "stream",
     "text": [
      "       sofifa_id                                         player_url  \\\n",
      "8016      236831  https://sofifa.com/player/236831/aaron-seydel/...   \n",
      "1389      199833  https://sofifa.com/player/199833/lars-unnersta...   \n",
      "1217      200212  https://sofifa.com/player/200212/michael-esser...   \n",
      "13576     239746  https://sofifa.com/player/239746/lukas-watkowi...   \n",
      "518       179783  https://sofifa.com/player/179783/ralf-fahrmann...   \n",
      "\n",
      "          short_name        long_name  age         dob  height_cm  weight_kg  \\\n",
      "8016       A. Seydel     Aaron Seydel   23  1996-02-07        199         90   \n",
      "1389   L. Unnerstall  Lars Unnerstall   28  1990-07-20        198        103   \n",
      "1217        M. Esser    Michael Esser   31  1987-11-22        198         97   \n",
      "13576   L. Watkowiak  Lukas Watkowiak   23  1996-03-06        197        103   \n",
      "518      R. Fährmann    Ralf Fährmann   30  1988-09-27        197         98   \n",
      "\n",
      "      nationality                club  ...    lwb   ldm   cdm   rdm   rwb  \\\n",
      "8016      Germany     1. FSV Mainz 05  ...   46+2  43+2  43+2  43+2  46+2   \n",
      "1389      Germany                 PSV  ...    NaN   NaN   NaN   NaN   NaN   \n",
      "1217      Germany         Hannover 96  ...    NaN   NaN   NaN   NaN   NaN   \n",
      "13576     Germany  SV Wehen Wiesbaden  ...    NaN   NaN   NaN   NaN   NaN   \n",
      "518       Germany        Norwich City  ...    NaN   NaN   NaN   NaN   NaN   \n",
      "\n",
      "         lb   lcb    cb   rcb    rb  \n",
      "8016   44+2  43+2  43+2  43+2  44+2  \n",
      "1389    NaN   NaN   NaN   NaN   NaN  \n",
      "1217    NaN   NaN   NaN   NaN   NaN  \n",
      "13576   NaN   NaN   NaN   NaN   NaN  \n",
      "518     NaN   NaN   NaN   NaN   NaN  \n",
      "\n",
      "[5 rows x 104 columns]\n"
     ]
    }
   ],
   "source": [
    "german_players_sorted = data[data['nationality'] == 'Germany'].sort_values(['height_cm', 'weight_kg', 'wage_eur'], ascending=False).head()\n",
    "print(german_players_sorted)"
   ]
  },
  {
   "cell_type": "markdown",
   "metadata": {},
   "source": [
    "Let's go back and show the short name and wages of the first 5 German players."
   ]
  },
  {
   "cell_type": "code",
   "execution_count": 22,
   "metadata": {},
   "outputs": [
    {
     "name": "stdout",
     "output_type": "stream",
     "text": [
      "       short_name  wage_eur\n",
      "6   M. ter Stegen    250000\n",
      "31       M. Neuer    155000\n",
      "36       T. Kroos    330000\n",
      "37        M. Reus    170000\n",
      "49     M. Hummels    130000\n"
     ]
    }
   ],
   "source": [
    "all_german_players = data[data['nationality'] == 'Germany']\n",
    "name_and_wages_german = all_german_players.head()[['short_name', 'wage_eur']]\n",
    "print(name_and_wages_german)"
   ]
  },
  {
   "cell_type": "markdown",
   "metadata": {},
   "source": [
    "## Metrics\n",
    "\n",
    "The dataset from FIFA has a lot of columns, including measurements of different aspects of the players' performance.\n",
    "\n",
    "Let's try to find the top 5 players in the world by their shooting skills.\n",
    "The dataset lists this attribute as `shooting`."
   ]
  },
  {
   "cell_type": "code",
   "execution_count": 24,
   "metadata": {},
   "outputs": [
    {
     "name": "stdout",
     "output_type": "stream",
     "text": [
      "            short_name  shooting\n",
      "1    Cristiano Ronaldo      93.0\n",
      "0             L. Messi      92.0\n",
      "12             H. Kane      91.0\n",
      "17           S. Agüero      90.0\n",
      "205    F. Quagliarella      89.0\n"
     ]
    }
   ],
   "source": [
    "best_shooters = data.sort_values('shooting', ascending=False).head()[['short_name', 'shooting']]\n",
    "print(best_shooters)"
   ]
  },
  {
   "cell_type": "markdown",
   "metadata": {},
   "source": [
    "Next we will get the top 5 defenders in the world, and show more information about them."
   ]
  },
  {
   "cell_type": "code",
   "execution_count": 25,
   "metadata": {},
   "outputs": [
    {
     "name": "stdout",
     "output_type": "stream",
     "text": [
      "      short_name  defending  nationality               club\n",
      "16  G. Chiellini       90.0        Italy           Juventus\n",
      "7    V. van Dijk       90.0  Netherlands          Liverpool\n",
      "11  K. Koulibaly       89.0      Senegal             Napoli\n",
      "35      D. Godín       89.0      Uruguay              Inter\n",
      "49    M. Hummels       89.0      Germany  Borussia Dortmund\n"
     ]
    }
   ],
   "source": [
    "best_defenders = data.sort_values('defending', ascending=False).head()[['short_name', 'defending', 'nationality', 'club']]\n",
    "print(best_defenders)"
   ]
  },
  {
   "cell_type": "markdown",
   "metadata": {},
   "source": [
    "### Real Madrid\n",
    "\n",
    "Finally, let's list some information of Real Madrid players."
   ]
  },
  {
   "cell_type": "code",
   "execution_count": 28,
   "metadata": {},
   "outputs": [],
   "source": [
    "real_madrid = data[data['club'] == 'Real Madrid']"
   ]
  },
  {
   "cell_type": "markdown",
   "metadata": {},
   "source": [
    "First their wages."
   ]
  },
  {
   "cell_type": "code",
   "execution_count": 32,
   "metadata": {},
   "outputs": [
    {
     "name": "stdout",
     "output_type": "stream",
     "text": [
      "      short_name  wage_eur nationality\n",
      "4      E. Hazard    470000     Belgium\n",
      "8      L. Modrić    340000     Croatia\n",
      "18  Sergio Ramos    300000       Spain\n",
      "28   T. Courtois    235000     Belgium\n",
      "36      T. Kroos    330000     Germany\n"
     ]
    }
   ],
   "source": [
    "real_madrid_wages = real_madrid.head()[['short_name', 'wage_eur']]\n",
    "print(real_madrid_wages)"
   ]
  },
  {
   "cell_type": "markdown",
   "metadata": {},
   "source": [
    "Then their shooting."
   ]
  },
  {
   "cell_type": "code",
   "execution_count": 33,
   "metadata": {},
   "outputs": [
    {
     "name": "stdout",
     "output_type": "stream",
     "text": [
      "      short_name  shooting nationality\n",
      "4      E. Hazard      83.0     Belgium\n",
      "8      L. Modrić      76.0     Croatia\n",
      "18  Sergio Ramos      68.0       Spain\n",
      "28   T. Courtois       NaN     Belgium\n",
      "36      T. Kroos      80.0     Germany\n"
     ]
    }
   ],
   "source": [
    "real_madrid_shooting = real_madrid.head()[['short_name', 'shooting']]\n",
    "print(real_madrid_shooting)"
   ]
  },
  {
   "cell_type": "markdown",
   "metadata": {},
   "source": [
    "Then their defending score."
   ]
  },
  {
   "cell_type": "code",
   "execution_count": 34,
   "metadata": {},
   "outputs": [
    {
     "name": "stdout",
     "output_type": "stream",
     "text": [
      "      short_name  defending\n",
      "4      E. Hazard       35.0\n",
      "8      L. Modrić       72.0\n",
      "18  Sergio Ramos       87.0\n",
      "28   T. Courtois        NaN\n",
      "36      T. Kroos       70.0\n"
     ]
    }
   ],
   "source": [
    "real_madrid_defending = real_madrid.head()[['short_name', 'defending']]\n",
    "print(real_madrid_defending)"
   ]
  },
  {
   "cell_type": "markdown",
   "metadata": {},
   "source": [
    "And finally their nationality."
   ]
  },
  {
   "cell_type": "code",
   "execution_count": 35,
   "metadata": {},
   "outputs": [
    {
     "name": "stdout",
     "output_type": "stream",
     "text": [
      "      short_name nationality\n",
      "4      E. Hazard     Belgium\n",
      "8      L. Modrić     Croatia\n",
      "18  Sergio Ramos       Spain\n",
      "28   T. Courtois     Belgium\n",
      "36      T. Kroos     Germany\n"
     ]
    }
   ],
   "source": [
    "real_madrid_nationality = real_madrid.head()[['short_name', 'nationality']]\n",
    "print(real_madrid_nationality)"
   ]
  },
  {
   "cell_type": "markdown",
   "metadata": {},
   "source": [
    "## Conclusion\n",
    "\n",
    "This has been a basic practice with Pandas and Jupyter notebooks. I find them easy and enjoyable to use, and will consider \n",
    "them in future projects."
   ]
  }
 ],
 "metadata": {
  "interpreter": {
   "hash": "63fd5069d213b44bf678585dea6b12cceca9941eaf7f819626cde1f2670de90d"
  },
  "kernelspec": {
   "display_name": "Python 3.9.1 64-bit",
   "language": "python",
   "name": "python3"
  },
  "language_info": {
   "codemirror_mode": {
    "name": "ipython",
    "version": 3
   },
   "file_extension": ".py",
   "mimetype": "text/x-python",
   "name": "python",
   "nbconvert_exporter": "python",
   "pygments_lexer": "ipython3",
   "version": "3.7.0"
  },
  "orig_nbformat": 4
 },
 "nbformat": 4,
 "nbformat_minor": 2
}
